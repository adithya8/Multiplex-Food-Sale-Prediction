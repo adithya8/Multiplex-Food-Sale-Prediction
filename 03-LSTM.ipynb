{
 "cells": [
  {
   "cell_type": "code",
   "execution_count": 1,
   "metadata": {
    "ExecuteTime": {
     "end_time": "2019-02-09T07:34:23.513583Z",
     "start_time": "2019-02-09T07:34:21.502237Z"
    }
   },
   "outputs": [
    {
     "name": "stderr",
     "output_type": "stream",
     "text": [
      "Using TensorFlow backend.\n"
     ]
    }
   ],
   "source": [
    "import warnings\n",
    "warnings.filterwarnings(\"ignore\")\n",
    "\n",
    "import numpy as np\n",
    "import pandas as pd\n",
    "import keras.layers as L\n",
    "import keras.models as M\n",
    "import tensorflow as tf\n",
    "from sklearn.metrics import *\n",
    "from scipy.signal import savgol_filter\n",
    "import matplotlib.pyplot as plt\n",
    "\n",
    "np.random.seed(51)"
   ]
  },
  {
   "cell_type": "code",
   "execution_count": 2,
   "metadata": {
    "ExecuteTime": {
     "end_time": "2019-02-09T07:34:23.518953Z",
     "start_time": "2019-02-09T07:34:23.515513Z"
    }
   },
   "outputs": [],
   "source": [
    "def create_time_stepped_data(df, time_steps,num_features):\n",
    "    d = []\n",
    "    for i in range(time_steps):\n",
    "        d.append(df.shift(-i).values[:-time_steps].reshape(-1,num_features+1))\n",
    "    return np.transpose(np.array(d),(1,0,2))"
   ]
  },
  {
   "cell_type": "code",
   "execution_count": 3,
   "metadata": {
    "ExecuteTime": {
     "end_time": "2019-02-09T07:34:23.644766Z",
     "start_time": "2019-02-09T07:34:23.521744Z"
    }
   },
   "outputs": [],
   "source": [
    "def model_define(input_shape):\n",
    "    \n",
    "    inp = L.Input(shape=input_shape)\n",
    "    \n",
    "    x = L.LSTM(256, recurrent_dropout=0.1, activation = 'relu',return_sequences=True)(inp)\n",
    "    x = L.LSTM(256, recurrent_dropout=0.1, activation = 'relu',return_sequences=True)(x)\n",
    "    x = L.LSTM(256, recurrent_dropout=0.1, activation = 'relu',return_sequences=True)(x)\n",
    "    \n",
    "    x = L.Dense(1024)(x)\n",
    "    x = L.Dropout(0.1)(x)\n",
    "    x = L.advanced_activations.LeakyReLU(0.3)(x)\n",
    "    x = L.Dense(1024)(x)\n",
    "    x = L.Dropout(0.1)(x)\n",
    "    x = L.advanced_activations.LeakyReLU(0.3)(x)\n",
    "    x = L.Dense(1024)(x)\n",
    "    x = L.Dropout(0.1)(x)\n",
    "    x = L.advanced_activations.LeakyReLU(0.3)(x)\n",
    "    x = L.Dense(1024)(x)\n",
    "    x = L.Dropout(0.1)(x)\n",
    "    x = L.advanced_activations.LeakyReLU(0.3)(x)\n",
    "    x = L.Dense(1)(x)\n",
    "    out = L.Dropout(0.1)(x)\n",
    "    \n",
    "    model = M.Model(inputs=[inp], outputs=[out])\n",
    "    model.compile(optimizer='adam', loss=tf.losses.huber_loss, metrics=['mae'])\n",
    "    \n",
    "    return model"
   ]
  },
  {
   "cell_type": "code",
   "execution_count": 4,
   "metadata": {
    "ExecuteTime": {
     "end_time": "2019-02-09T07:34:25.774284Z",
     "start_time": "2019-02-09T07:34:25.727237Z"
    }
   },
   "outputs": [],
   "source": [
    "df = pd.read_csv(\"../New Data/Data.csv\")\n",
    "l = list(range(81,89))\n",
    "data = df.iloc[:,l]"
   ]
  },
  {
   "cell_type": "code",
   "execution_count": null,
   "metadata": {
    "ExecuteTime": {
     "end_time": "2019-02-09T07:35:55.440443Z",
     "start_time": "2019-02-09T07:35:55.414967Z"
    }
   },
   "outputs": [],
   "source": [
    "for i in df.columns:\n",
    "    print(i)"
   ]
  },
  {
   "cell_type": "code",
   "execution_count": 5,
   "metadata": {
    "ExecuteTime": {
     "end_time": "2018-06-13T11:51:09.025167Z",
     "start_time": "2018-06-13T11:51:08.988190Z"
    }
   },
   "outputs": [],
   "source": [
    "cols = ['food1', 'food2', 'food3', 'food4', 'food5', 'food6', 'food7',\n",
    "       'food8', 'food9', 'food10', 'food11', 'food12', 'food13', 'food14']"
   ]
  },
  {
   "cell_type": "code",
   "execution_count": null,
   "metadata": {
    "ExecuteTime": {
     "end_time": "2018-06-13T12:02:27.675821Z",
     "start_time": "2018-06-13T11:51:09.027591Z"
    }
   },
   "outputs": [],
   "source": [
    "writer = pd.ExcelWriter('../Results/LSTMresults.xlsx')\n",
    "split = int(0.7*data.shape[0])\n",
    "for food in cols:\n",
    "    d = pd.DataFrame()\n",
    "    print (\"\\n\\nFood : \", food)\n",
    "    print (\"-------------------------------------------------------------\")\n",
    "    r = create_time_stepped_data(data[food],14,0)\n",
    "    x = r[:,:-7,:].reshape((-1,7,1))\n",
    "    y = r[:,7:,:].reshape((-1,7,1))\n",
    "    model = model_define(x.shape[1:])\n",
    "    model.summary()\n",
    "    x_train, x_test = x[:split], x[split:]\n",
    "    y_train, y_test = y[:split], y[split:]\n",
    "    print(x_train.shape, x_test.shape)\n",
    "    model.fit(x_train, y_train, epochs=50, batch_size=32, validation_data=(x_test,y_test))\n",
    "    pred = model.predict(x_test,batch_size=32)[:,-1,:].reshape((-1,))\n",
    "    test = y_test[:,-1,:].reshape((-1,))\n",
    "    d['Date'] = df.values[split+7:-7,0]\n",
    "    d['yPred'] = pred\n",
    "    d['yTest'] = test\n",
    "    d['mape'] = np.abs(pred - test ) / test * 100\n",
    "    d.to_excel(writer,sheet_name=food,index=False)\n",
    "writer.save()"
   ]
  },
  {
   "cell_type": "code",
   "execution_count": null,
   "metadata": {},
   "outputs": [],
   "source": []
  }
 ],
 "metadata": {
  "kernelspec": {
   "display_name": "Python 3",
   "language": "python",
   "name": "python3"
  },
  "language_info": {
   "codemirror_mode": {
    "name": "ipython",
    "version": 3
   },
   "file_extension": ".py",
   "mimetype": "text/x-python",
   "name": "python",
   "nbconvert_exporter": "python",
   "pygments_lexer": "ipython3",
   "version": "3.6.8"
  },
  "latex_envs": {
   "LaTeX_envs_menu_present": true,
   "autoclose": false,
   "autocomplete": true,
   "bibliofile": "biblio.bib",
   "cite_by": "apalike",
   "current_citInitial": 1,
   "eqLabelWithNumbers": true,
   "eqNumInitial": 1,
   "hotkeys": {
    "equation": "Ctrl-E",
    "itemize": "Ctrl-I"
   },
   "labels_anchors": false,
   "latex_user_defs": false,
   "report_style_numbering": false,
   "user_envs_cfg": false
  }
 },
 "nbformat": 4,
 "nbformat_minor": 2
}
