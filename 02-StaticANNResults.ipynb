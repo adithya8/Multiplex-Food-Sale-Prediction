{
 "cells": [
  {
   "cell_type": "code",
   "execution_count": 11,
   "metadata": {
    "ExecuteTime": {
     "end_time": "2018-06-20T11:17:45.654604Z",
     "start_time": "2018-06-20T11:17:45.639230Z"
    }
   },
   "outputs": [],
   "source": [
    "import warnings\n",
    "warnings.filterwarnings(\"ignore\")\n",
    "\n",
    "import numpy as np\n",
    "import pandas as pd\n",
    "import keras.layers as L\n",
    "import keras.models as M\n",
    "import os\n",
    "from sklearn.metrics import *\n",
    "from livelossplot import PlotLossesKeras\n",
    "from keras.models import load_model\n",
    "import tensorflow as tf"
   ]
  },
  {
   "cell_type": "code",
   "execution_count": 2,
   "metadata": {
    "ExecuteTime": {
     "end_time": "2018-06-20T11:14:19.964085Z",
     "start_time": "2018-06-20T11:14:19.835782Z"
    }
   },
   "outputs": [],
   "source": [
    "inputdf = pd.read_csv(\"../New Data/inputdf.csv\")\n",
    "outputdf = pd.read_csv(\"../New Data/outputdf.csv\")"
   ]
  },
  {
   "cell_type": "code",
   "execution_count": null,
   "metadata": {
    "ExecuteTime": {
     "end_time": "2018-06-20T11:14:19.999725Z",
     "start_time": "2018-06-20T11:14:19.966008Z"
    },
    "scrolled": true
   },
   "outputs": [],
   "source": [
    "l = []\n",
    "for i in range(6, 568, 14):\n",
    "    if(i == 482):\n",
    "        break\n",
    "    if(i not in [482, 483]):\n",
    "        print(i, \" - \", inputdf.columns[i])\n",
    "    l.append(i)\n",
    "i += 2\n",
    "for t in range(i, inputdf.shape[1] - 6, 14):\n",
    "    print(t, \" - \", inputdf.columns[t])\n",
    "    l.append(t)\n",
    "i-=2\n",
    "for t in range(i, inputdf.shape[1]):\n",
    "    print(t, \" - \", inputdf.columns[t])\n",
    "    l.append(t)"
   ]
  },
  {
   "cell_type": "code",
   "execution_count": 4,
   "metadata": {
    "ExecuteTime": {
     "end_time": "2018-06-20T11:14:20.451194Z",
     "start_time": "2018-06-20T11:14:20.002023Z"
    },
    "scrolled": true
   },
   "outputs": [
    {
     "name": "stdout",
     "output_type": "stream",
     "text": [
      "_________________________________________________________________\n",
      "Layer (type)                 Output Shape              Param #   \n",
      "=================================================================\n",
      "input_1 (InputLayer)         (None, 9)                 0         \n",
      "_________________________________________________________________\n",
      "dense_1 (Dense)              (None, 1024)              10240     \n",
      "_________________________________________________________________\n",
      "dropout_1 (Dropout)          (None, 1024)              0         \n",
      "_________________________________________________________________\n",
      "dense_2 (Dense)              (None, 1024)              1049600   \n",
      "_________________________________________________________________\n",
      "dropout_2 (Dropout)          (None, 1024)              0         \n",
      "_________________________________________________________________\n",
      "dense_3 (Dense)              (None, 1024)              1049600   \n",
      "_________________________________________________________________\n",
      "dropout_3 (Dropout)          (None, 1024)              0         \n",
      "_________________________________________________________________\n",
      "dense_4 (Dense)              (None, 1024)              1049600   \n",
      "_________________________________________________________________\n",
      "dropout_4 (Dropout)          (None, 1024)              0         \n",
      "_________________________________________________________________\n",
      "dense_5 (Dense)              (None, 1024)              1049600   \n",
      "_________________________________________________________________\n",
      "dropout_5 (Dropout)          (None, 1024)              0         \n",
      "_________________________________________________________________\n",
      "dense_6 (Dense)              (None, 1)                 1025      \n",
      "_________________________________________________________________\n",
      "dropout_6 (Dropout)          (None, 1)                 0         \n",
      "=================================================================\n",
      "Total params: 4,209,665\n",
      "Trainable params: 4,209,665\n",
      "Non-trainable params: 0\n",
      "_________________________________________________________________\n"
     ]
    }
   ],
   "source": [
    "inp = L.Input(shape=(9,))\n",
    "x = L.Dense(1024, activation='relu')(inp)\n",
    "x = L.Dropout(0.2)(x)\n",
    "x = L.Dense(1024, activation='relu')(x)\n",
    "x = L.Dropout(0.2)(x)\n",
    "x = L.Dense(1024, activation='relu')(x)\n",
    "x = L.Dropout(0.2)(x)\n",
    "x = L.Dense(1024, activation='relu')(x)\n",
    "x = L.Dropout(0.2)(x)\n",
    "x = L.Dense(1024, activation='relu')(x)\n",
    "x = L.Dropout(0.2)(x)\n",
    "out = L.Dense(1, activation='relu')(x)\n",
    "out = L.Dropout(0.2)(out)\n",
    "\n",
    "model = M.Model(inputs=[inp],outputs=[out])\n",
    "model.compile(optimizer='adam',loss=tf.losses.huber_loss,metrics=['mae'])\n",
    "model.summary()"
   ]
  },
  {
   "cell_type": "code",
   "execution_count": null,
   "metadata": {
    "ExecuteTime": {
     "start_time": "2018-06-19T11:54:45.815Z"
    },
    "scrolled": true
   },
   "outputs": [],
   "source": [
    "#writer = pd.ExcelWriter('StaticANNStage1.xlsx')\n",
    "d = pd.DataFrame()\n",
    "split = int(0.8*inputdf.shape[0])\n",
    "for food in range(0,1):\n",
    "    if(food != 6):\n",
    "        #d = pd.DataFrame()\n",
    "        print (\"\\n\\nFood : \",outputdf.columns[food])\n",
    "        print (\"-------------------------------------------------------------\")\n",
    "        \n",
    "        col_list = [6,20,34,48,426]\n",
    "        \n",
    "        xtrain , xtest = inputdf.values[:split,list(range(2,6))] , inputdf.values[split:,list(range(2,6))]\n",
    "        ytrain , ytest = outputdf.values[:split,food].reshape((-1,1)) , outputdf.values[split:,food].reshape((-1,1))\n",
    "        for j in col_list:\n",
    "            xtrain , xtest = np.hstack((xtrain,inputdf.values[:split,food + j].reshape((-1,1)))) , np.hstack((xtest,inputdf.values[split:,food+j].reshape((-1,1))))\n",
    "        \n",
    "        print (xtrain.shape,ytrain.shape,xtest.shape,ytest.shape)\n",
    "        model.fit(xtrain,ytrain,epochs=100,batch_size=32)\n",
    "        ypred = model.predict(xtest,batch_size=32)\n",
    "        d['Date'] = pd.Series(inputdf.iloc[split:,0])\n",
    "        d['yPred'] = ypred\n",
    "        d['yTest'] = ytest\n",
    "        d['mape'] = np.abs(ypred.reshape((-1,1)) - ytest ) / ytest * 100\n",
    "#        d.to_excel(writer,sheet_name=outputdf.columns[food],index=False)\n",
    "#writer.save()"
   ]
  }
 ],
 "metadata": {
  "kernelspec": {
   "display_name": "Python [conda env:anaconda]",
   "language": "python",
   "name": "conda-env-anaconda-py"
  },
  "language_info": {
   "codemirror_mode": {
    "name": "ipython",
    "version": 3
   },
   "file_extension": ".py",
   "mimetype": "text/x-python",
   "name": "python",
   "nbconvert_exporter": "python",
   "pygments_lexer": "ipython3",
   "version": "3.6.5"
  }
 },
 "nbformat": 4,
 "nbformat_minor": 2
}
